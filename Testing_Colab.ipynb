{
  "nbformat": 4,
  "nbformat_minor": 0,
  "metadata": {
    "colab": {
      "provenance": [],
      "toc_visible": true,
      "authorship_tag": "ABX9TyNmftFt4mth1FfqlrFK312o",
      "include_colab_link": true
    },
    "kernelspec": {
      "name": "python3",
      "display_name": "Python 3"
    },
    "language_info": {
      "name": "python"
    }
  },
  "cells": [
    {
      "cell_type": "markdown",
      "metadata": {
        "id": "view-in-github",
        "colab_type": "text"
      },
      "source": [
        "<a href=\"https://colab.research.google.com/github/doyindevops/functions/blob/main/Testing_Colab.ipynb\" target=\"_parent\"><img src=\"https://colab.research.google.com/assets/colab-badge.svg\" alt=\"Open In Colab\"/></a>"
      ]
    },
    {
      "cell_type": "code",
      "execution_count": null,
      "metadata": {
        "id": "ybcq-yLGozHO"
      },
      "outputs": [],
      "source": []
    },
    {
      "cell_type": "markdown",
      "source": [
        "### Checking\n"
      ],
      "metadata": {
        "id": "PMZbRR9D1Rzl"
      }
    },
    {
      "cell_type": "markdown",
      "source": [
        "Building out a library structure and then eventually containerizing it, pushing it into the cloud, and then deploying continuous delivery of a containerized micro-service, okay? Let's go ahead and get started. [MUSIC] The first thing I'm going to do here is I'm going to go ahead and create a new Repository so that you can see the artifacts that we create and as I have each checkpoint, you can get a copy of the checkpoint."
      ],
      "metadata": {
        "id": "5Wu40AGe1Xrx"
      }
    }
  ]
}